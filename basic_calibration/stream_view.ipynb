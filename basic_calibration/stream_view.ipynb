{
 "cells": [
  {
   "cell_type": "code",
   "execution_count": 7,
   "id": "2b497745",
   "metadata": {},
   "outputs": [
    {
     "name": "stdout",
     "output_type": "stream",
     "text": [
      "Requirement already satisfied: stream_viewer in c:\\users\\user\\anaconda3\\envs\\eeg_eye\\lib\\site-packages (0.27)\n",
      "Requirement already satisfied: pylsl in c:\\users\\user\\anaconda3\\envs\\eeg_eye\\lib\\site-packages (from stream_viewer) (1.15.0)\n",
      "Requirement already satisfied: matplotlib in c:\\users\\user\\anaconda3\\envs\\eeg_eye\\lib\\site-packages (from stream_viewer) (3.3.4)\n",
      "Requirement already satisfied: pyqtgraph in c:\\users\\user\\anaconda3\\envs\\eeg_eye\\lib\\site-packages (from stream_viewer) (0.11.1)\n",
      "Requirement already satisfied: vispy in c:\\users\\user\\anaconda3\\envs\\eeg_eye\\lib\\site-packages (from stream_viewer) (0.9.6)\n",
      "Requirement already satisfied: pandas in c:\\users\\user\\anaconda3\\envs\\eeg_eye\\lib\\site-packages (from stream_viewer) (1.1.5)\n",
      "Requirement already satisfied: visbrain in c:\\users\\user\\anaconda3\\envs\\eeg_eye\\lib\\site-packages (from stream_viewer) (0.4.5)\n",
      "Requirement already satisfied: qtpy in c:\\users\\user\\anaconda3\\envs\\eeg_eye\\lib\\site-packages (from stream_viewer) (2.0.1)\n",
      "Requirement already satisfied: kiwisolver>=1.0.1 in c:\\users\\user\\anaconda3\\envs\\eeg_eye\\lib\\site-packages (from matplotlib->stream_viewer) (1.3.1)\n",
      "Requirement already satisfied: numpy>=1.15 in c:\\users\\user\\anaconda3\\envs\\eeg_eye\\lib\\site-packages (from matplotlib->stream_viewer) (1.19.2)\n",
      "Requirement already satisfied: pyparsing!=2.0.4,!=2.1.2,!=2.1.6,>=2.0.3 in c:\\users\\user\\anaconda3\\envs\\eeg_eye\\lib\\site-packages (from matplotlib->stream_viewer) (3.0.4)\n",
      "Requirement already satisfied: python-dateutil>=2.1 in c:\\users\\user\\anaconda3\\envs\\eeg_eye\\lib\\site-packages (from matplotlib->stream_viewer) (2.8.2)\n",
      "Requirement already satisfied: pillow>=6.2.0 in c:\\users\\user\\anaconda3\\envs\\eeg_eye\\lib\\site-packages (from matplotlib->stream_viewer) (8.4.0)\n",
      "Requirement already satisfied: cycler>=0.10 in c:\\users\\user\\anaconda3\\envs\\eeg_eye\\lib\\site-packages (from matplotlib->stream_viewer) (0.11.0)\n",
      "Requirement already satisfied: six>=1.5 in c:\\users\\user\\anaconda3\\envs\\eeg_eye\\lib\\site-packages (from python-dateutil>=2.1->matplotlib->stream_viewer) (1.16.0)\n",
      "Requirement already satisfied: pytz>=2017.2 in c:\\users\\user\\anaconda3\\envs\\eeg_eye\\lib\\site-packages (from pandas->stream_viewer) (2021.3)\n",
      "Requirement already satisfied: packaging in c:\\users\\user\\anaconda3\\envs\\eeg_eye\\lib\\site-packages (from qtpy->stream_viewer) (21.3)\n",
      "Requirement already satisfied: pyqt5 in c:\\users\\user\\anaconda3\\envs\\eeg_eye\\lib\\site-packages (from visbrain->stream_viewer) (5.15.6)\n",
      "Requirement already satisfied: scipy in c:\\users\\user\\anaconda3\\envs\\eeg_eye\\lib\\site-packages (from visbrain->stream_viewer) (1.5.4)\n",
      "Requirement already satisfied: PyOpenGL in c:\\users\\user\\anaconda3\\envs\\eeg_eye\\lib\\site-packages (from visbrain->stream_viewer) (3.1.6)\n",
      "Requirement already satisfied: hsluv in c:\\users\\user\\anaconda3\\envs\\eeg_eye\\lib\\site-packages (from vispy->stream_viewer) (5.0.2)\n",
      "Requirement already satisfied: freetype-py in c:\\users\\user\\anaconda3\\envs\\eeg_eye\\lib\\site-packages (from vispy->stream_viewer) (2.2.0)\n",
      "Requirement already satisfied: PyQt5-sip<13,>=12.8 in c:\\users\\user\\anaconda3\\envs\\eeg_eye\\lib\\site-packages (from pyqt5->visbrain->stream_viewer) (12.9.1)\n",
      "Requirement already satisfied: PyQt5-Qt5>=5.15.2 in c:\\users\\user\\anaconda3\\envs\\eeg_eye\\lib\\site-packages (from pyqt5->visbrain->stream_viewer) (5.15.2)\n"
     ]
    }
   ],
   "source": [
    "!pip install stream_viewer"
   ]
  },
  {
   "cell_type": "code",
   "execution_count": null,
   "id": "71db2da6",
   "metadata": {},
   "outputs": [],
   "source": []
  },
  {
   "cell_type": "code",
   "execution_count": 4,
   "id": "b5b633a5",
   "metadata": {},
   "outputs": [
    {
     "ename": "AttributeError",
     "evalue": "module 'pyqtgraph.colormap' has no attribute 'listMaps'",
     "output_type": "error",
     "traceback": [
      "\u001b[1;31m---------------------------------------------------------------------------\u001b[0m",
      "\u001b[1;31mAttributeError\u001b[0m                            Traceback (most recent call last)",
      "\u001b[1;32m<ipython-input-4-b845aa7c802e>\u001b[0m in \u001b[0;36m<module>\u001b[1;34m\u001b[0m\n\u001b[0;32m     11\u001b[0m \u001b[1;32mfrom\u001b[0m \u001b[0mstream_viewer\u001b[0m\u001b[1;33m.\u001b[0m\u001b[0mwidgets\u001b[0m \u001b[1;32mimport\u001b[0m \u001b[0mConfigAndRenderWidget\u001b[0m\u001b[1;33m\u001b[0m\u001b[1;33m\u001b[0m\u001b[0m\n\u001b[0;32m     12\u001b[0m \u001b[1;32mfrom\u001b[0m \u001b[0mstream_viewer\u001b[0m\u001b[1;33m.\u001b[0m\u001b[0mwidgets\u001b[0m \u001b[1;32mimport\u001b[0m \u001b[0mStreamStatusQMLWidget\u001b[0m\u001b[1;33m\u001b[0m\u001b[1;33m\u001b[0m\u001b[0m\n\u001b[1;32m---> 13\u001b[1;33m \u001b[1;32mfrom\u001b[0m \u001b[0mstream_viewer\u001b[0m\u001b[1;33m.\u001b[0m\u001b[0mrenderers\u001b[0m \u001b[1;32mimport\u001b[0m \u001b[0mload_renderer\u001b[0m\u001b[1;33m,\u001b[0m \u001b[0mlist_renderers\u001b[0m\u001b[1;33m,\u001b[0m \u001b[0mget_kwargs_from_settings\u001b[0m\u001b[1;33m\u001b[0m\u001b[1;33m\u001b[0m\u001b[0m\n\u001b[0m",
      "\u001b[1;32m~\\anaconda3\\envs\\eeg_eye\\lib\\site-packages\\stream_viewer\\renderers\\__init__.py\u001b[0m in \u001b[0;36m<module>\u001b[1;34m\u001b[0m\n\u001b[0;32m      1\u001b[0m \u001b[1;31m# Note: Cannot use relative imports here because these modules may be searched and loaded with importlib\u001b[0m\u001b[1;33m\u001b[0m\u001b[1;33m\u001b[0m\u001b[1;33m\u001b[0m\u001b[0m\n\u001b[1;32m----> 2\u001b[1;33m \u001b[1;32mfrom\u001b[0m \u001b[0mstream_viewer\u001b[0m\u001b[1;33m.\u001b[0m\u001b[0mrenderers\u001b[0m\u001b[1;33m.\u001b[0m\u001b[0mbar_pg\u001b[0m \u001b[1;32mimport\u001b[0m \u001b[0mBarPG\u001b[0m\u001b[1;33m\u001b[0m\u001b[1;33m\u001b[0m\u001b[0m\n\u001b[0m\u001b[0;32m      3\u001b[0m \u001b[1;32mfrom\u001b[0m \u001b[0mstream_viewer\u001b[0m\u001b[1;33m.\u001b[0m\u001b[0mrenderers\u001b[0m\u001b[1;33m.\u001b[0m\u001b[0mline_pg\u001b[0m \u001b[1;32mimport\u001b[0m \u001b[0mLinePG\u001b[0m\u001b[1;33m\u001b[0m\u001b[1;33m\u001b[0m\u001b[0m\n\u001b[0;32m      4\u001b[0m \u001b[1;32mfrom\u001b[0m \u001b[0mstream_viewer\u001b[0m\u001b[1;33m.\u001b[0m\u001b[0mrenderers\u001b[0m\u001b[1;33m.\u001b[0m\u001b[0mline_vis\u001b[0m \u001b[1;32mimport\u001b[0m \u001b[0mLineVis\u001b[0m\u001b[1;33m\u001b[0m\u001b[1;33m\u001b[0m\u001b[0m\n\u001b[0;32m      5\u001b[0m \u001b[1;32mfrom\u001b[0m \u001b[0mstream_viewer\u001b[0m\u001b[1;33m.\u001b[0m\u001b[0mrenderers\u001b[0m\u001b[1;33m.\u001b[0m\u001b[0mresolver\u001b[0m \u001b[1;32mimport\u001b[0m \u001b[0mload_renderer\u001b[0m\u001b[1;33m,\u001b[0m \u001b[0mlist_renderers\u001b[0m\u001b[1;33m,\u001b[0m \u001b[0mget_kwargs_from_settings\u001b[0m\u001b[1;33m\u001b[0m\u001b[1;33m\u001b[0m\u001b[0m\n",
      "\u001b[1;32m~\\anaconda3\\envs\\eeg_eye\\lib\\site-packages\\stream_viewer\\renderers\\bar_pg.py\u001b[0m in \u001b[0;36m<module>\u001b[1;34m\u001b[0m\n\u001b[0;32m      3\u001b[0m \u001b[1;32mfrom\u001b[0m \u001b[0mqtpy\u001b[0m \u001b[1;32mimport\u001b[0m \u001b[0mQtCore\u001b[0m\u001b[1;33m\u001b[0m\u001b[1;33m\u001b[0m\u001b[0m\n\u001b[0;32m      4\u001b[0m \u001b[1;32mfrom\u001b[0m \u001b[0mstream_viewer\u001b[0m\u001b[1;33m.\u001b[0m\u001b[0mrenderers\u001b[0m\u001b[1;33m.\u001b[0m\u001b[0mdata\u001b[0m\u001b[1;33m.\u001b[0m\u001b[0mbase\u001b[0m \u001b[1;32mimport\u001b[0m \u001b[0mRendererMergeDataSources\u001b[0m\u001b[1;33m\u001b[0m\u001b[1;33m\u001b[0m\u001b[0m\n\u001b[1;32m----> 5\u001b[1;33m \u001b[1;32mfrom\u001b[0m \u001b[0mstream_viewer\u001b[0m\u001b[1;33m.\u001b[0m\u001b[0mrenderers\u001b[0m\u001b[1;33m.\u001b[0m\u001b[0mdisplay\u001b[0m\u001b[1;33m.\u001b[0m\u001b[0mpyqtgraph\u001b[0m \u001b[1;32mimport\u001b[0m \u001b[0mPGRenderer\u001b[0m\u001b[1;33m\u001b[0m\u001b[1;33m\u001b[0m\u001b[0m\n\u001b[0m\u001b[0;32m      6\u001b[0m \u001b[1;32mimport\u001b[0m \u001b[0mpyqtgraph\u001b[0m \u001b[1;32mas\u001b[0m \u001b[0mpg\u001b[0m\u001b[1;33m\u001b[0m\u001b[1;33m\u001b[0m\u001b[0m\n\u001b[0;32m      7\u001b[0m \u001b[1;32mfrom\u001b[0m \u001b[0mpyqtgraph\u001b[0m\u001b[1;33m.\u001b[0m\u001b[0mwidgets\u001b[0m\u001b[1;33m.\u001b[0m\u001b[0mPlotWidget\u001b[0m \u001b[1;32mimport\u001b[0m \u001b[0mPlotWidget\u001b[0m\u001b[1;33m\u001b[0m\u001b[1;33m\u001b[0m\u001b[0m\n",
      "\u001b[1;32m~\\anaconda3\\envs\\eeg_eye\\lib\\site-packages\\stream_viewer\\renderers\\display\\pyqtgraph.py\u001b[0m in \u001b[0;36m<module>\u001b[1;34m\u001b[0m\n\u001b[0;32m      7\u001b[0m \u001b[1;33m\u001b[0m\u001b[0m\n\u001b[0;32m      8\u001b[0m \u001b[1;33m\u001b[0m\u001b[0m\n\u001b[1;32m----> 9\u001b[1;33m \u001b[1;32mclass\u001b[0m \u001b[0mPGRenderer\u001b[0m\u001b[1;33m(\u001b[0m\u001b[0mRendererBaseDisplay\u001b[0m\u001b[1;33m)\u001b[0m\u001b[1;33m:\u001b[0m\u001b[1;33m\u001b[0m\u001b[1;33m\u001b[0m\u001b[0m\n\u001b[0m\u001b[0;32m     10\u001b[0m     \u001b[0mcolor_sets\u001b[0m \u001b[1;33m=\u001b[0m \u001b[0mlist\u001b[0m\u001b[1;33m(\u001b[0m\u001b[0mGradients\u001b[0m\u001b[1;33m.\u001b[0m\u001b[0mkeys\u001b[0m\u001b[1;33m(\u001b[0m\u001b[1;33m)\u001b[0m\u001b[1;33m)\u001b[0m \u001b[1;33m+\u001b[0m \u001b[0mpg\u001b[0m\u001b[1;33m.\u001b[0m\u001b[0mcolormap\u001b[0m\u001b[1;33m.\u001b[0m\u001b[0mlistMaps\u001b[0m\u001b[1;33m(\u001b[0m\u001b[1;34m'matplotlib'\u001b[0m\u001b[1;33m)\u001b[0m\u001b[1;33m\u001b[0m\u001b[1;33m\u001b[0m\u001b[0m\n\u001b[0;32m     11\u001b[0m     \u001b[0mTIMER_INTERVAL\u001b[0m \u001b[1;33m=\u001b[0m \u001b[0mint\u001b[0m\u001b[1;33m(\u001b[0m\u001b[1;36m1000\u001b[0m\u001b[1;33m/\u001b[0m\u001b[1;36m60\u001b[0m\u001b[1;33m)\u001b[0m\u001b[1;33m\u001b[0m\u001b[1;33m\u001b[0m\u001b[0m\n",
      "\u001b[1;32m~\\anaconda3\\envs\\eeg_eye\\lib\\site-packages\\stream_viewer\\renderers\\display\\pyqtgraph.py\u001b[0m in \u001b[0;36mPGRenderer\u001b[1;34m()\u001b[0m\n\u001b[0;32m      8\u001b[0m \u001b[1;33m\u001b[0m\u001b[0m\n\u001b[0;32m      9\u001b[0m \u001b[1;32mclass\u001b[0m \u001b[0mPGRenderer\u001b[0m\u001b[1;33m(\u001b[0m\u001b[0mRendererBaseDisplay\u001b[0m\u001b[1;33m)\u001b[0m\u001b[1;33m:\u001b[0m\u001b[1;33m\u001b[0m\u001b[1;33m\u001b[0m\u001b[0m\n\u001b[1;32m---> 10\u001b[1;33m     \u001b[0mcolor_sets\u001b[0m \u001b[1;33m=\u001b[0m \u001b[0mlist\u001b[0m\u001b[1;33m(\u001b[0m\u001b[0mGradients\u001b[0m\u001b[1;33m.\u001b[0m\u001b[0mkeys\u001b[0m\u001b[1;33m(\u001b[0m\u001b[1;33m)\u001b[0m\u001b[1;33m)\u001b[0m \u001b[1;33m+\u001b[0m \u001b[0mpg\u001b[0m\u001b[1;33m.\u001b[0m\u001b[0mcolormap\u001b[0m\u001b[1;33m.\u001b[0m\u001b[0mlistMaps\u001b[0m\u001b[1;33m(\u001b[0m\u001b[1;34m'matplotlib'\u001b[0m\u001b[1;33m)\u001b[0m\u001b[1;33m\u001b[0m\u001b[1;33m\u001b[0m\u001b[0m\n\u001b[0m\u001b[0;32m     11\u001b[0m     \u001b[0mTIMER_INTERVAL\u001b[0m \u001b[1;33m=\u001b[0m \u001b[0mint\u001b[0m\u001b[1;33m(\u001b[0m\u001b[1;36m1000\u001b[0m\u001b[1;33m/\u001b[0m\u001b[1;36m60\u001b[0m\u001b[1;33m)\u001b[0m\u001b[1;33m\u001b[0m\u001b[1;33m\u001b[0m\u001b[0m\n\u001b[0;32m     12\u001b[0m \u001b[1;33m\u001b[0m\u001b[0m\n",
      "\u001b[1;31mAttributeError\u001b[0m: module 'pyqtgraph.colormap' has no attribute 'listMaps'"
     ]
    }
   ],
   "source": [
    "import json\n",
    "import sys\n",
    "import functools\n",
    "import argparse\n",
    "from pathlib import Path\n",
    "from qtpy import QtWidgets, QtCore\n",
    "import stream_viewer\n",
    "from stream_viewer.data import LSLDataSource\n",
    "from stream_viewer.data import LSLStreamInfoTableModel\n",
    "from stream_viewer.widgets import load_widget\n",
    "from stream_viewer.widgets import ConfigAndRenderWidget\n",
    "from stream_viewer.widgets import StreamStatusQMLWidget\n",
    "from stream_viewer.renderers import load_renderer, list_renderers, get_kwargs_from_settings"
   ]
  }
 ],
 "metadata": {
  "kernelspec": {
   "display_name": "Python 3",
   "language": "python",
   "name": "python3"
  },
  "language_info": {
   "codemirror_mode": {
    "name": "ipython",
    "version": 3
   },
   "file_extension": ".py",
   "mimetype": "text/x-python",
   "name": "python",
   "nbconvert_exporter": "python",
   "pygments_lexer": "ipython3",
   "version": "3.6.13"
  }
 },
 "nbformat": 4,
 "nbformat_minor": 5
}
