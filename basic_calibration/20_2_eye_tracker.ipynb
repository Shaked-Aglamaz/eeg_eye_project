{
 "cells": [
  {
   "cell_type": "code",
   "execution_count": 1,
   "id": "210014a8-553b-4547-9b2b-92ccd130161e",
   "metadata": {
    "tags": []
   },
   "outputs": [],
   "source": [
    "import numpy as np\n",
    "import tobii_research as tr\n",
    "import time\n",
    "import random\n",
    "import os\n",
    "import sys"
   ]
  },
  {
   "cell_type": "code",
   "execution_count": 2,
   "id": "c5257454-3b1f-4cd1-b74b-9754be03b5b1",
   "metadata": {
    "tags": []
   },
   "outputs": [],
   "source": [
    "found_eyetrackers = tr.find_all_eyetrackers()"
   ]
  },
  {
   "cell_type": "code",
   "execution_count": 3,
   "id": "78f5a9f5-bcc8-4344-889c-fec92ccc93a4",
   "metadata": {},
   "outputs": [
    {
     "ename": "IndexError",
     "evalue": "tuple index out of range",
     "output_type": "error",
     "traceback": [
      "\u001b[1;31m---------------------------------------------------------------------------\u001b[0m",
      "\u001b[1;31mIndexError\u001b[0m                                Traceback (most recent call last)",
      "\u001b[1;32m<ipython-input-3-fdcc7a3c0295>\u001b[0m in \u001b[0;36m<module>\u001b[1;34m\u001b[0m\n\u001b[1;32m----> 1\u001b[1;33m \u001b[0mmy_eyetracker\u001b[0m \u001b[1;33m=\u001b[0m \u001b[0mfound_eyetrackers\u001b[0m\u001b[1;33m[\u001b[0m\u001b[1;36m0\u001b[0m\u001b[1;33m]\u001b[0m\u001b[1;33m\u001b[0m\u001b[1;33m\u001b[0m\u001b[0m\n\u001b[0m\u001b[0;32m      2\u001b[0m \u001b[0mprint\u001b[0m\u001b[1;33m(\u001b[0m\u001b[1;34m\"Address: \"\u001b[0m \u001b[1;33m+\u001b[0m \u001b[0mmy_eyetracker\u001b[0m\u001b[1;33m.\u001b[0m\u001b[0maddress\u001b[0m\u001b[1;33m)\u001b[0m\u001b[1;33m\u001b[0m\u001b[1;33m\u001b[0m\u001b[0m\n\u001b[0;32m      3\u001b[0m \u001b[0mprint\u001b[0m\u001b[1;33m(\u001b[0m\u001b[1;34m\"Model: \"\u001b[0m \u001b[1;33m+\u001b[0m \u001b[0mmy_eyetracker\u001b[0m\u001b[1;33m.\u001b[0m\u001b[0mmodel\u001b[0m\u001b[1;33m)\u001b[0m\u001b[1;33m\u001b[0m\u001b[1;33m\u001b[0m\u001b[0m\n\u001b[0;32m      4\u001b[0m \u001b[0mprint\u001b[0m\u001b[1;33m(\u001b[0m\u001b[1;34m\"Name (It's OK if this is empty): \"\u001b[0m \u001b[1;33m+\u001b[0m \u001b[0mmy_eyetracker\u001b[0m\u001b[1;33m.\u001b[0m\u001b[0mdevice_name\u001b[0m\u001b[1;33m)\u001b[0m\u001b[1;33m\u001b[0m\u001b[1;33m\u001b[0m\u001b[0m\n\u001b[0;32m      5\u001b[0m \u001b[0mprint\u001b[0m\u001b[1;33m(\u001b[0m\u001b[1;34m\"Serial number: \"\u001b[0m \u001b[1;33m+\u001b[0m \u001b[0mmy_eyetracker\u001b[0m\u001b[1;33m.\u001b[0m\u001b[0mserial_number\u001b[0m\u001b[1;33m)\u001b[0m\u001b[1;33m\u001b[0m\u001b[1;33m\u001b[0m\u001b[0m\n",
      "\u001b[1;31mIndexError\u001b[0m: tuple index out of range"
     ]
    }
   ],
   "source": [
    "my_eyetracker = found_eyetrackers[0]\n",
    "print(\"Address: \" + my_eyetracker.address)\n",
    "print(\"Model: \" + my_eyetracker.model)\n",
    "print(\"Name (It's OK if this is empty): \" + my_eyetracker.device_name)\n",
    "print(\"Serial number: \" + my_eyetracker.serial_number)"
   ]
  },
  {
   "cell_type": "code",
   "execution_count": 4,
   "id": "7aef6fca",
   "metadata": {},
   "outputs": [],
   "source": [
    "shaked_l_d= {'center':[], 'upright':[], 'upleft':[], 'downleft':[], 'downright':[]}\n",
    "shaked_r_d={'center':[], 'upright':[], 'upleft':[], 'downleft':[], 'downright':[]}\n",
    "\n",
    "maya_l_d= {'center':[], 'upright':[], 'upleft':[], 'downleft':[], 'downright':[]}\n",
    "maya_r_d={'center':[], 'upright':[], 'upleft':[], 'downleft':[], 'downright':[]}"
   ]
  },
  {
   "cell_type": "code",
   "execution_count": 6,
   "id": "37683e42-bca5-4eac-99c7-6fe4fffa22b7",
   "metadata": {},
   "outputs": [],
   "source": [
    "\n",
    "\n",
    "def gaze_data_callback(gaze_data):\n",
    "    # Print gaze points of left and right eye\n",
    "    print(\"Left eye: ({gaze_left_eye}) \\t Right eye: ({gaze_right_eye})\".format(\n",
    "        gaze_left_eye=gaze_data['left_gaze_point_on_display_area'],\n",
    "        gaze_right_eye=gaze_data['right_gaze_point_on_display_area']))\n",
    "    #maya_l_d['downleft'].append(gaze_data['left_gaze_point_on_display_area'])\n",
    "    #maya_r_d['downleft'].append(gaze_data['right_gaze_point_on_display_area'])\n",
    "    time.sleep(1)"
   ]
  },
  {
   "cell_type": "code",
   "execution_count": 7,
   "id": "d43d3eb2-9c46-4193-8a8c-224d95c191d2",
   "metadata": {
    "tags": []
   },
   "outputs": [
    {
     "name": "stdout",
     "output_type": "stream",
     "text": [
      "Left eye: ((nan, nan)) \t Right eye: ((nan, nan))\n",
      "Left eye: ((nan, nan)) \t Right eye: ((nan, nan))\n",
      "Left eye: ((nan, nan)) \t Right eye: ((nan, nan))\n",
      "Left eye: ((nan, nan)) \t Right eye: ((nan, nan))\n",
      "Left eye: ((nan, nan)) \t Right eye: ((nan, nan))\n",
      "Left eye: ((nan, nan)) \t Right eye: ((nan, nan))\n",
      "Left eye: ((nan, nan)) \t Right eye: ((nan, nan))\n",
      "Left eye: ((nan, nan)) \t Right eye: ((nan, nan))\n",
      "Left eye: ((0.35166043043136597, 0.6315174102783203)) \t Right eye: ((0.34819531440734863, 0.6515442132949829))\n",
      "Left eye: ((0.35677671432495117, 0.6295105218887329)) \t Right eye: ((0.34632617235183716, 0.6499964594841003))\n",
      "Left eye: ((0.35532698035240173, 0.6334097385406494)) \t Right eye: ((0.3452821373939514, 0.6499898433685303))\n",
      "Left eye: ((0.3554299473762512, 0.6281384229660034)) \t Right eye: ((0.34524425864219666, 0.6479648947715759))\n",
      "Left eye: ((0.3551836609840393, 0.6252486705780029)) \t Right eye: ((0.3450663089752197, 0.6510345935821533))\n",
      "Left eye: ((0.3565733730792999, 0.6284562349319458)) \t Right eye: ((0.3450014591217041, 0.6512870788574219))\n",
      "Left eye: ((0.35589495301246643, 0.6276071071624756)) \t Right eye: ((0.3452126085758209, 0.6438730955123901))\n",
      "Left eye: ((0.3560258150100708, 0.6278725862503052)) \t Right eye: ((0.3460314869880676, 0.6463465690612793))\n",
      "Left eye: ((0.3551686406135559, 0.6298566460609436)) \t Right eye: ((0.3453579545021057, 0.647422194480896))\n",
      "Left eye: ((0.35583966970443726, 0.6264671087265015)) \t Right eye: ((0.34569844603538513, 0.6489549875259399))\n",
      "Left eye: ((0.35582613945007324, 0.6291806697845459)) \t Right eye: ((0.34553807973861694, 0.6541669368743896))\n",
      "Left eye: ((0.35566020011901855, 0.6229851245880127)) \t Right eye: ((0.3422822058200836, 0.6614642143249512))\n",
      "Left eye: ((0.35582995414733887, 0.6241244673728943)) \t Right eye: ((0.3456176817417145, 0.6490098237991333))\n",
      "Left eye: ((0.3540351092815399, 0.6282671689987183)) \t Right eye: ((0.34571319818496704, 0.6540993452072144))\n",
      "Left eye: ((0.35531139373779297, 0.6271145343780518)) \t Right eye: ((0.34413576126098633, 0.6519573330879211))\n",
      "Left eye: ((0.3548188805580139, 0.6295644044876099)) \t Right eye: ((0.3445872664451599, 0.648347020149231))\n",
      "Left eye: ((0.3535751402378082, 0.6287217140197754)) \t Right eye: ((0.3445000648498535, 0.6489331126213074))\n",
      "Left eye: ((0.35535943508148193, 0.6304645538330078)) \t Right eye: ((0.34330007433891296, 0.6499367356300354))\n",
      "Left eye: ((0.35542404651641846, 0.6281181573867798)) \t Right eye: ((0.3452330529689789, 0.6463428735733032))\n",
      "Left eye: ((0.3555978536605835, 0.6301052570343018)) \t Right eye: ((0.3450430929660797, 0.6509881019592285))\n",
      "Left eye: ((0.3561461567878723, 0.6299250721931458)) \t Right eye: ((0.3446172773838043, 0.6549687385559082))\n",
      "Left eye: ((nan, nan)) \t Right eye: ((0.3442689776420593, 0.6506780385971069))\n",
      "Left eye: ((0.3552356958389282, 0.6318344473838806)) \t Right eye: ((0.34460848569869995, 0.6448840498924255))\n",
      "Left eye: ((0.35615628957748413, 0.63697749376297)) \t Right eye: ((0.34467482566833496, 0.6492304801940918))\n",
      "Left eye: ((0.3565259575843811, 0.6299378275871277)) \t Right eye: ((0.3458653390407562, 0.6518311500549316))\n",
      "Left eye: ((0.35443222522735596, 0.6362403035163879)) \t Right eye: ((0.34390759468078613, 0.6476845741271973))\n",
      "Left eye: ((0.3566681742668152, 0.6230627298355103)) \t Right eye: ((0.3441348075866699, 0.6500895023345947))\n",
      "Left eye: ((0.35449138283729553, 0.6266632080078125)) \t Right eye: ((0.3459280729293823, 0.6433655023574829))\n",
      "Left eye: ((0.35531920194625854, 0.6267924308776855)) \t Right eye: ((0.34626632928848267, 0.6469776630401611))\n",
      "Left eye: ((0.35423433780670166, 0.6272563934326172)) \t Right eye: ((nan, nan))\n",
      "Left eye: ((0.35510557889938354, 0.6337236166000366)) \t Right eye: ((0.34583580493927, 0.6472731828689575))\n",
      "Left eye: ((0.3551725745201111, 0.6300820112228394)) \t Right eye: ((0.3442593216896057, 0.6450830698013306))\n",
      "Left eye: ((0.35602954030036926, 0.6308292746543884)) \t Right eye: ((0.34530407190322876, 0.6493450403213501))\n",
      "Left eye: ((0.354719340801239, 0.6275132298469543)) \t Right eye: ((0.34392333030700684, 0.6454205513000488))\n",
      "Left eye: ((0.35419002175331116, 0.6308413743972778)) \t Right eye: ((0.3452088534832001, 0.6449435949325562))\n",
      "Left eye: ((0.3539608120918274, 0.6254715919494629)) \t Right eye: ((nan, nan))\n",
      "Left eye: ((0.3542061448097229, 0.6286652088165283)) \t Right eye: ((0.3448585867881775, 0.6455577611923218))\n",
      "Left eye: ((0.35328614711761475, 0.6264132857322693)) \t Right eye: ((0.34360504150390625, 0.647685706615448))\n"
     ]
    }
   ],
   "source": [
    "my_eyetracker.subscribe_to(tr.EYETRACKER_GAZE_DATA, gaze_data_callback, as_dictionary=True)"
   ]
  },
  {
   "cell_type": "code",
   "execution_count": 8,
   "id": "5f7f3998",
   "metadata": {},
   "outputs": [],
   "source": [
    "my_eyetracker.unsubscribe_from(tr.EYETRACKER_GAZE_DATA, gaze_data_callback)"
   ]
  },
  {
   "cell_type": "code",
   "execution_count": null,
   "id": "ba5c3892",
   "metadata": {},
   "outputs": [],
   "source": [
    "shaked_r_d"
   ]
  },
  {
   "cell_type": "code",
   "execution_count": null,
   "id": "9eec34f5",
   "metadata": {},
   "outputs": [],
   "source": []
  }
 ],
 "metadata": {
  "kernelspec": {
   "display_name": "Python 3",
   "language": "python",
   "name": "python3"
  },
  "language_info": {
   "codemirror_mode": {
    "name": "ipython",
    "version": 3
   },
   "file_extension": ".py",
   "mimetype": "text/x-python",
   "name": "python",
   "nbconvert_exporter": "python",
   "pygments_lexer": "ipython3",
   "version": "3.6.13"
  }
 },
 "nbformat": 4,
 "nbformat_minor": 5
}
