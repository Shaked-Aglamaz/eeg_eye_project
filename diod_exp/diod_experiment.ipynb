{
 "cells": [
  {
   "cell_type": "code",
   "execution_count": 1,
   "id": "834474a8",
   "metadata": {},
   "outputs": [
    {
     "name": "stdout",
     "output_type": "stream",
     "text": [
      "pygame 2.1.2 (SDL 2.0.18, Python 3.6.13)\n",
      "Hello from the pygame community. https://www.pygame.org/contribute.html\n"
     ]
    }
   ],
   "source": [
    "from psychopy import core, visual\n",
    "import pylsl as lsl"
   ]
  },
  {
   "cell_type": "code",
   "execution_count": 3,
   "id": "39006cd5",
   "metadata": {},
   "outputs": [
    {
     "name": "stdout",
     "output_type": "stream",
     "text": [
      "18.9643 \tWARNING \tUser requested fullscreen with size [800 600], but screen is actually [1920, 1080]. Using actual size\n"
     ]
    }
   ],
   "source": [
    "# Initializing game\n",
    "\n",
    "# create a window\n",
    "win = visual.Window([800, 600], fullscr = True, monitor=\"testMonitor\", units=\"deg\", color=(-1, -1, -1), useFBO=False)\n",
    "options = [\"black.jpg\", \"white.jpg\"]\n",
    "info = lsl.StreamInfo(name='Trigger Stream', type='Markers', channel_count=1, channel_format='int32', source_id='uniqueid12345')\n",
    "outlet = lsl.StreamOutlet(info, chunk_size=0)\n",
    "\n",
    "# Experiment Flow Function    \n",
    "def main():\n",
    "    for i in range(5):\n",
    "        slidePic2 = visual.ImageStim(win, image=\"black.jpg\", units='norm', size=[2,2], interpolate=True)\n",
    "        slidePic2.draw()\n",
    "        win.update()\n",
    "        core.wait(1)\n",
    "        slidePic = visual.ImageStim(win, image=\"white.jpg\",  units='norm', size=[2,2], interpolate=True)\n",
    "        slidePic.draw()\n",
    "        win.update()\n",
    "        core.wait(0.1)       \n",
    "    win.close()\n",
    "\n",
    "main()"
   ]
  }
 ],
 "metadata": {
  "kernelspec": {
   "display_name": "Python 3.9.13 64-bit (windows store)",
   "language": "python",
   "name": "python3"
  },
  "language_info": {
   "codemirror_mode": {
    "name": "ipython",
    "version": 3
   },
   "file_extension": ".py",
   "mimetype": "text/x-python",
   "name": "python",
   "nbconvert_exporter": "python",
   "pygments_lexer": "ipython3",
   "version": "3.9.13"
  },
  "vscode": {
   "interpreter": {
    "hash": "5870362a126c03bc0393dbf7d60957cce30875c323960071f31c28a99fb282c1"
   }
  }
 },
 "nbformat": 4,
 "nbformat_minor": 5
}
