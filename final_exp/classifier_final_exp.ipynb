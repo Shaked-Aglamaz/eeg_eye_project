{
 "cells": [
  {
   "cell_type": "code",
   "execution_count": null,
   "id": "77061ae5",
   "metadata": {},
   "outputs": [],
   "source": [
    "import numpy as np\n",
    "import pandas as pd\n",
    "import matplotlib.pyplot as plt\n",
    "import seaborn as sns\n",
    "from sklearn import svm\n",
    "from sklearn.model_selection import train_test_split\n",
    "from sklearn.preprocessing import StandardScaler"
   ]
  },
  {
   "cell_type": "code",
   "execution_count": null,
   "id": "c352616b",
   "metadata": {},
   "outputs": [],
   "source": [
    "def load_data(subject, block, csv_data_folder):\n",
    "    return pd.read_csv(f'{csv_data_folder}/{subject}pre_{block}.csv')"
   ]
  },
  {
   "cell_type": "code",
   "execution_count": null,
   "id": "40df18cb",
   "metadata": {},
   "outputs": [],
   "source": [
    "def scatter_and_save_fig(data, subject, block):\n",
    "    scatter = sns.scatterplot(data=data,x='x_left',y='y_left',hue='label', palette=sns.color_palette(\"tab10\", 2))\n",
    "    scatter.set_ylim(0.4, 0.6)\n",
    "    scatter.set_xlim(0.1, 0.9)\n",
    "    plt.savefig(f'{subject}/scatter{subject}_block{block}',dpi=400)"
   ]
  },
  {
   "cell_type": "code",
   "execution_count": null,
   "id": "8179627f",
   "metadata": {},
   "outputs": [],
   "source": [
    "def get_train_test_split(data):\n",
    "    np_data = data.to_numpy()\n",
    "    avg_x_eyes = np.average(np.array([np_data[:, 2], np_data[:, 4]]), axis=0)\n",
    "    avg_y_eyes = np.average(np.array([np_data[:, 3], np_data[:, 5]]), axis=0)\n",
    "    avg_eyes_data = np.column_stack([avg_x_eyes, avg_y_eyes])\n",
    "    labels = np_data[:,1].astype('int64')\n",
    "    return train_test_split(avg_eyes_data, labels, test_size=0.2)\n",
    "        "
   ]
  },
  {
   "cell_type": "code",
   "execution_count": null,
   "id": "35a4994b",
   "metadata": {},
   "outputs": [],
   "source": [
    "def normalize_data(X, x_test):\n",
    "    scaler = StandardScaler()\n",
    "    scaler.fit(X)\n",
    "    X = scaler.transform(X)\n",
    "    x_test = scaler.transform(x_test)\n",
    "    return X, x_test"
   ]
  },
  {
   "cell_type": "code",
   "execution_count": null,
   "id": "e9967129",
   "metadata": {},
   "outputs": [],
   "source": [
    "def classic_svc(X, x_test, y, y_test, scores_dict, subject, block):\n",
    "    clf = svm.SVC()\n",
    "    clf.fit(X, y)\n",
    "    score = clf.score(x_test,y_test)\n",
    "    scores_dict[f'{subject}_{block}'] = score"
   ]
  },
  {
   "cell_type": "code",
   "execution_count": null,
   "id": "88766be5",
   "metadata": {},
   "outputs": [],
   "source": [
    "def four_svc_and_figs(X, y, subject, block):\n",
    "    h = .02  # step size in the mesh\n",
    "\n",
    "    # we create an instance of SVM and fit out data. We do not scale our\n",
    "    # data since we want to plot the support vectors\n",
    "    C = 1.0  # SVM regularization parameter\n",
    "    svc = svm.SVC(kernel='linear', C=C).fit(X, y)\n",
    "    rbf_svc = svm.SVC(kernel='rbf', gamma=0.7, C=C).fit(X, y)\n",
    "    poly_svc = svm.SVC(kernel='poly', degree=3, C=C).fit(X, y)\n",
    "    lin_svc = svm.LinearSVC(C=C).fit(X, y)\n",
    "\n",
    "    # create a mesh to plot in\n",
    "    x_min, x_max = X[:, 0].min() - 1, X[:, 0].max() +1\n",
    "    y_min, y_max = X[:, 1].min() - 1, X[:, 1].max() +1\n",
    "    xx, yy = np.meshgrid(np.arange(x_min, x_max, h), np.arange(y_min, y_max, h))\n",
    "\n",
    "    # title for the plots\n",
    "    titles = ['SVC with linear kernel',\n",
    "            'LinearSVC (linear kernel)',\n",
    "            'SVC with RBF kernel',\n",
    "            'SVC with polynomial (degree 3) kernel']\n",
    "\n",
    "\n",
    "    for i, clf in enumerate([svc, rbf_svc, poly_svc, lin_svc]):\n",
    "        # Plot the decision boundary. For that, we will assign a color to each\n",
    "        # point in the mesh [x_min, x_max]x[y_min, y_max].\n",
    "        # plt.subplot(2, 2, i + 1)\n",
    "        # plt.subplots_adjust(wspace=.1,hspace=.1)\n",
    "\n",
    "        Z = clf.predict(np.c_[xx.ravel(), yy.ravel()])\n",
    "\n",
    "        # Put the result into a color plot\n",
    "        Z = Z.reshape(xx.shape)\n",
    "        plt.figure(figsize=(12,8))\n",
    "        plt.contourf(xx, yy, Z, cmap=plt.cm.coolwarm, alpha=0.8)\n",
    "\n",
    "        # Plot also the training points\n",
    "        plt.scatter(X[:, 0], X[:, 1], c=y, cmap=plt.cm.coolwarm)\n",
    "        plt.xlabel('Normalized x coordinates', fontsize=18)\n",
    "        plt.ylabel('Normalized y coordinates', fontsize=18)\n",
    "        plt.xlim(xx.min(), xx.max())\n",
    "        plt.ylim(yy.min(), yy.max())\n",
    "        plt.xticks()\n",
    "        plt.yticks()\n",
    "        plt.title(titles[i], fontsize=22)\n",
    "        plt.savefig(f\"{subject}/{titles[i]}_{block}.jpg\")\n",
    "\n",
    "    plt.show()"
   ]
  },
  {
   "cell_type": "code",
   "execution_count": null,
   "id": "9a15c3af",
   "metadata": {},
   "outputs": [],
   "source": [
    "# run only once for all subjects\n",
    "scores_dict = {}\n",
    "num_blocks = 5\n",
    "subjects = [f'00{i}' for i in range(3, 7)]\n",
    "csv_data_folder = 'final_exp_decoding'"
   ]
  },
  {
   "cell_type": "code",
   "execution_count": null,
   "id": "88a2a0d2",
   "metadata": {},
   "outputs": [],
   "source": [
    "# main loop for classifiers \n",
    "for subject in subjects:\n",
    "    for block in range(num_blocks):\n",
    "        data = load_data(subject, block, csv_data_folder)\n",
    "        scatter_and_save_fig(data, subject, block)\n",
    "        X, x_test, y, y_test = get_train_test_split(data)\n",
    "        X, x_test = normalize_data(X, x_test)\n",
    "        classic_svc(X, x_test, y, y_test, scores_dict, subject, block)\n",
    "        four_svc_and_figs(X, y, subject, block)"
   ]
  },
  {
   "cell_type": "code",
   "execution_count": null,
   "id": "ea43fff1",
   "metadata": {},
   "outputs": [],
   "source": [
    "# run only once for all subjects\n",
    "scores = pd.DataFrame(data=scores_dict, index=[0])\n",
    "scores.to_csv(\"classic_svc_scores.csv\")"
   ]
  },
  {
   "cell_type": "code",
   "execution_count": null,
   "id": "5abbde5d",
   "metadata": {},
   "outputs": [],
   "source": [
    "avg_accuracy_over_subjects = {}\n",
    "for i in range(num_blocks):\n",
    "    avg_accuracy_over_subjects[f'{i}'] = np.average([scores_dict[f'{sub}_{i}'] for sub in subjects])"
   ]
  },
  {
   "cell_type": "code",
   "execution_count": null,
   "id": "294c1885",
   "metadata": {},
   "outputs": [],
   "source": [
    "plt.figure(figsize=(8, 4))\n",
    "plt.plot(list(avg_accuracy_over_subjects.keys()), list(avg_accuracy_over_subjects.values()))\n",
    "plt.xlabel(\"timeframe\", fontsize=14)\n",
    "plt.ylabel(\"accuracy\", fontsize=14)\n",
    "plt.title(\"Average accuracy of all subjects\", fontsize=18)\n",
    "plt.savefig(\"avg_accuracy.jpg\")"
   ]
  }
 ],
 "metadata": {
  "kernelspec": {
   "display_name": "Python 3.9.13 64-bit (windows store)",
   "language": "python",
   "name": "python3"
  },
  "language_info": {
   "codemirror_mode": {
    "name": "ipython",
    "version": 3
   },
   "file_extension": ".py",
   "mimetype": "text/x-python",
   "name": "python",
   "nbconvert_exporter": "python",
   "pygments_lexer": "ipython3",
   "version": "3.9.13"
  },
  "vscode": {
   "interpreter": {
    "hash": "5870362a126c03bc0393dbf7d60957cce30875c323960071f31c28a99fb282c1"
   }
  }
 },
 "nbformat": 4,
 "nbformat_minor": 5
}
