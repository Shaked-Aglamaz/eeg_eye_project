{
 "cells": [
  {
   "cell_type": "code",
   "execution_count": 1,
   "id": "960af5cf",
   "metadata": {},
   "outputs": [],
   "source": [
    "import pyxdf\n",
    "import matplotlib.pyplot as plt\n",
    "import numpy as np\n",
    "import pandas as pd\n",
    "import seaborn as sns"
   ]
  },
  {
   "cell_type": "code",
   "execution_count": 2,
   "id": "f2c769be",
   "metadata": {},
   "outputs": [],
   "source": [
    "def load_data(subject, xdf_data_folder, csv_data_folder):\n",
    "    data, header = pyxdf.load_xdf(f'{xdf_data_folder}/s{subject}.xdf')\n",
    "    exp_data = (pd.read_csv(f'{csv_data_folder}/{subject}.csv'))\n",
    "    return data, exp_data"
   ]
  },
  {
   "cell_type": "code",
   "execution_count": 3,
   "id": "e97652e6",
   "metadata": {},
   "outputs": [],
   "source": [
    "def scatter_triggers(data, tobii, n, b, t):\n",
    "    all_data = data[tobii]['time_stamps'][2:]\n",
    "    plt.scatter([all_data[i] for i in range(0, n * b * t, t)][0:10], [1 for _ in range(n)][0:10], marker='o')\n",
    "    plt.scatter([all_data[i] for i in range(1, n * b * t, t)][0:10], [1 for _ in range(n)][0:10], marker='o')\n",
    "    plt.scatter([all_data[i] for i in range(2, n * b * t, t)][0:10], [1 for _ in range(n)][0:10], marker='o')\n",
    "    plt.scatter([all_data[i] for i in range(3, n * b * t, t)][0:10], [1 for _ in range(n)][0:10], marker='o')\n",
    "    plt.legend(['fixation', 'stim', 'choice', 'outcome'])"
   ]
  },
  {
   "cell_type": "code",
   "execution_count": 4,
   "id": "e72bfb5c",
   "metadata": {},
   "outputs": [],
   "source": [
    "def calculate_avg_eye_data(data, p, trial_sizes, subject, num_partitions, marker, tobii, b, n, t, missing_triggers=0):\n",
    "    # p is the partition inedx \n",
    "    x_left_avg = []\n",
    "    y_left_avg = []\n",
    "    x_right_avg = []\n",
    "    y_right_avg = []\n",
    "    triggers = data[marker]['time_stamps'][missing_triggers:]\n",
    "    fixation_trigers = [triggers[i] for i in range(0, n * t * b, t)]\n",
    "    choice_trigers = [triggers[i] for i in range(2, n * t * b, t)]\n",
    "    for i in range(b * n):  # number of trials * number of blocks\n",
    "        eye_time = data[tobii]['time_stamps']\n",
    "        flag = 1\n",
    "        for j in range(len(eye_time)):   \n",
    "            if eye_time[j] > fixation_trigers[i] and flag:\n",
    "                first = j\n",
    "                flag = 0\n",
    "            elif eye_time[j] > choice_trigers[i]:\n",
    "                last = j\n",
    "                flag = 1\n",
    "                break\n",
    "        eye_data = data[tobii]['time_series']\n",
    "        partition = int(np.round((last - first) / num_partitions))\n",
    "        trial_sizes[subject].append(last - first)\n",
    "        x_left_avg.append(np.nanmean(eye_data[0:,23][first + p*partition:first + (p+1)*partition]))\n",
    "        y_left_avg.append(np.nanmean(eye_data[0:,24][first + p*partition:first + (p+1)*partition]))\n",
    "        x_right_avg.append(np.nanmean(eye_data[0:,25][first + p*partition:first + (p+1)*partition]))\n",
    "        y_right_avg.append(np.nanmean(eye_data[0:,26][first + p*partition:first + (p+1)*partition]))\n",
    "    return x_left_avg, y_left_avg, x_right_avg, y_right_avg"
   ]
  },
  {
   "cell_type": "code",
   "execution_count": 5,
   "id": "720926c5",
   "metadata": {},
   "outputs": [],
   "source": [
    "def set_final_data(exp_data, x_left_avg, y_left_avg, x_right_avg, y_right_avg, b, n):\n",
    "    d = {'label':[], 'x_left':[], 'y_left':[], 'x_right':[],'y_right':[]}\n",
    "    choice = exp_data[' key_ID'].to_numpy()\n",
    "    for idx in range(n * b):\n",
    "        if np.isnan(x_left_avg[idx]) or np.isnan(y_left_avg[idx]) or np.isnan(x_right_avg[idx]) or np.isnan(y_right_avg[idx]):\n",
    "            continue\n",
    "        d['label'].append(choice[idx])\n",
    "        d['x_left'].append(x_left_avg[idx])\n",
    "        d['y_left'].append(y_left_avg[idx])\n",
    "        d['x_right'].append(x_right_avg[idx])\n",
    "        d['y_right'].append(y_right_avg[idx])\n",
    "    return pd.DataFrame(data=d)"
   ]
  },
  {
   "cell_type": "code",
   "execution_count": 6,
   "id": "a65a7f7f",
   "metadata": {},
   "outputs": [],
   "source": [
    "def save_final_data(final_data, p, folder, subject):\n",
    "    final_data.to_csv(f'{folder}/{subject}pre_{p}.csv')"
   ]
  },
  {
   "cell_type": "code",
   "execution_count": 7,
   "id": "84d85fbc",
   "metadata": {},
   "outputs": [],
   "source": [
    "# run once for all subjects\n",
    "trial_sizes = {}\n",
    "trial_sizes_avg = {}"
   ]
  },
  {
   "cell_type": "code",
   "execution_count": null,
   "id": "ffaeff93",
   "metadata": {},
   "outputs": [],
   "source": [
    "subject = '006'\n",
    "marker = 1\n",
    "tobii = 0\n",
    "n = 100 # num of trials\n",
    "t = 4 # num of triggers in each trial\n",
    "b = 1 # num of blocks\n",
    "missing_triggers = 0\n",
    "num_partitions = 5\n",
    "csv_data_folder = 'final_exp_decoding'\n",
    "xdf_data_folder = 'Data'\n",
    "trial_sizes[subject] = []"
   ]
  },
  {
   "cell_type": "code",
   "execution_count": null,
   "id": "c2043727",
   "metadata": {},
   "outputs": [],
   "source": [
    "# main loop for preprocessing eyes data - x, y for each eye.\n",
    "\n",
    "data, exp_data = load_data(subject, xdf_data_folder, csv_data_folder)\n",
    "# scatter_triggers(data, tobii, n, b, t)\n",
    "for p in range(num_partitions):\n",
    "    x_left_avg, y_left_avg, x_right_avg, y_right_avg = calculate_avg_eye_data(data, p, trial_sizes, subject,\n",
    "                                                                              num_partitions, marker, tobii, b, \n",
    "                                                                              n, t, missing_triggers)\n",
    "    final_data = set_final_data(exp_data, x_left_avg, y_left_avg, x_right_avg, y_right_avg, b, n)\n",
    "    save_final_data(final_data, p, csv_data_folder, subject)\n",
    "trial_sizes_avg[subject] = np.average(trial_sizes[subject])"
   ]
  },
  {
   "cell_type": "code",
   "execution_count": null,
   "id": "1c44bc15",
   "metadata": {},
   "outputs": [],
   "source": [
    "# run once for all subjects\n",
    "pd.DataFrame(data=trial_sizes_avg, index=[1]).to_csv(\"trial_sizes_avg.csv\")"
   ]
  }
 ],
 "metadata": {
  "kernelspec": {
   "display_name": "Python 3.9.13 64-bit (windows store)",
   "language": "python",
   "name": "python3"
  },
  "language_info": {
   "codemirror_mode": {
    "name": "ipython",
    "version": 3
   },
   "file_extension": ".py",
   "mimetype": "text/x-python",
   "name": "python",
   "nbconvert_exporter": "python",
   "pygments_lexer": "ipython3",
   "version": "3.9.13"
  },
  "vscode": {
   "interpreter": {
    "hash": "5870362a126c03bc0393dbf7d60957cce30875c323960071f31c28a99fb282c1"
   }
  }
 },
 "nbformat": 4,
 "nbformat_minor": 5
}
