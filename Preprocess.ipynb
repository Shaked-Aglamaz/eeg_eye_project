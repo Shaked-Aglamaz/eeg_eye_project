{
 "cells": [
  {
   "cell_type": "code",
   "execution_count": null,
   "id": "13fcd858",
   "metadata": {},
   "outputs": [],
   "source": [
    "import pyxdf\n",
    "import matplotlib.pyplot as plt\n",
    "import numpy as np\n",
    "import pandas as pd"
   ]
  },
  {
   "cell_type": "code",
   "execution_count": null,
   "id": "20a11f34",
   "metadata": {},
   "outputs": [],
   "source": [
    "data, header = pyxdf.load_xdf('decoding_data/shaked.xdf')"
   ]
  },
  {
   "cell_type": "markdown",
   "id": "05706c89",
   "metadata": {},
   "source": [
    "data[1] - eye tracker \n",
    "\n",
    "channel 23: x left\n",
    "\n",
    "channel 24: y left\n",
    "\n",
    "channel 25: x right\n",
    "\n",
    "channel 26: y right\n",
    "\n",
    "data[2] - triggers"
   ]
  },
  {
   "cell_type": "code",
   "execution_count": null,
   "id": "5de4fa5c",
   "metadata": {},
   "outputs": [],
   "source": [
    "x_left_avg = []\n",
    "y_left_avg = []\n",
    "x_right_avg = []\n",
    "y_right_avg = []\n",
    "triggers = data[2]['time_stamps']\n",
    "for i in range(len(triggers)-1):\n",
    "    start= triggers[i]\n",
    "    end= triggers[i+1]\n",
    "    if end-start > 50:\n",
    "        #break in exp\n",
    "        continue\n",
    "    eye_time= data[1]['time_stamps']\n",
    "    flag=1\n",
    "    for j in range(len(eye_time)):   \n",
    "        if eye_time[j]>start and flag:\n",
    "            first=j\n",
    "            flag=0\n",
    "        elif eye_time[j]> end:\n",
    "            last=j\n",
    "            flag=1\n",
    "            break\n",
    "    eye_data= data[1]['time_series']\n",
    "    x_left_avg.append(np.nanmean(eye_data[0:,23][first+352:first+396]))\n",
    "    y_left_avg.append(np.nanmean(eye_data[0:,24][first+352:first+396]))\n",
    "    x_right_avg.append(np.nanmean(eye_data[0:,25][first+352:first+396]))\n",
    "    y_right_avg.append(np.nanmean(eye_data[0:,26][first+352:first+396]))"
   ]
  },
  {
   "cell_type": "code",
   "execution_count": null,
   "id": "31fdff1d",
   "metadata": {},
   "outputs": [],
   "source": [
    "lables = (pd.read_csv('decoding_data/labeling.csv')).to_numpy()\n",
    "shuffle = (pd.read_csv('decoding_data/shuffle_order_shaked.csv')).to_numpy()"
   ]
  },
  {
   "cell_type": "code",
   "execution_count": null,
   "id": "e00cbfb7",
   "metadata": {},
   "outputs": [],
   "source": [
    "d={'label':[], 'x_left':[], 'y_left':[], 'x_right':[],'y_right':[]}\n",
    "for idx, image_idx in enumerate(shuffle[:,1]):\n",
    "    if np.isnan(x_left_avg[idx]) or np.isnan(y_left_avg[idx]) or np.isnan(x_right_avg[idx]) or np.isnan(y_right_avg[idx]):\n",
    "        continue\n",
    "    d['label'].append(lables[image_idx][3])\n",
    "    d['x_left'].append(x_left_avg[idx])\n",
    "    d['y_left'].append(y_left_avg[idx])\n",
    "    d['x_right'].append(x_right_avg[idx])\n",
    "    d['y_right'].append(y_right_avg[idx])\n",
    "final_data= pd.DataFrame(data=d)"
   ]
  },
  {
   "cell_type": "code",
   "execution_count": null,
   "id": "8c96864b",
   "metadata": {},
   "outputs": [],
   "source": [
    "final_data.to_csv('decoding_data/pre_shaked9.csv')"
   ]
  },
  {
   "cell_type": "code",
   "execution_count": null,
   "id": "fbe01ab8",
   "metadata": {},
   "outputs": [],
   "source": [
    "# left_gaze_point_on_display_area\n",
    "\n",
    "plt.plot(data[1]['time_stamps'][1000:5000],data[1]['time_series'][0:,23][1000:5000])\n",
    "plt.plot(data[1]['time_stamps'][1000:5000],data[1]['time_series'][0:,24][1000:5000])\n",
    "plt.plot(data[1]['time_stamps'][1000:5000],data[1]['time_series'][0:,25][1000:5000])\n",
    "plt.plot(data[1]['time_stamps'][1000:5000],data[1]['time_series'][0:,26][1000:5000])\n",
    "plt.scatter(data[2]['time_stamps'][0:10],(data[2]['time_series'][0:10]/4),marker='o')\n",
    "plt.xlabel('time')\n",
    "plt.legend(['x_left', 'y_left', 'x_right', 'y_right'])\n",
    "x = np.arange(len(data[1]['time_series'][0:,23][1000:5000]))\n",
    "for i in data[2]['time_stamps']:\n",
    "    pass\n",
    "plt.show()"
   ]
  }
 ],
 "metadata": {
  "kernelspec": {
   "display_name": "Python 3",
   "language": "python",
   "name": "python3"
  },
  "language_info": {
   "codemirror_mode": {
    "name": "ipython",
    "version": 3
   },
   "file_extension": ".py",
   "mimetype": "text/x-python",
   "name": "python",
   "nbconvert_exporter": "python",
   "pygments_lexer": "ipython3",
   "version": "3.6.13"
  }
 },
 "nbformat": 4,
 "nbformat_minor": 5
}
