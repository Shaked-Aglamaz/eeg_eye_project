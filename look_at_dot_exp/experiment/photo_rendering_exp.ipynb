{
 "cells": [
  {
   "cell_type": "code",
   "execution_count": null,
   "id": "4097362a",
   "metadata": {
    "scrolled": true
   },
   "outputs": [],
   "source": [
    "from numpy import random\n",
    "import matplotlib.pyplot as plt\n",
    "import numpy as np\n",
    "import pandas as pd"
   ]
  },
  {
   "cell_type": "code",
   "execution_count": null,
   "id": "969830bb",
   "metadata": {
    "scrolled": true
   },
   "outputs": [],
   "source": [
    "# a visual example of one dot photo.  \n",
    "\n",
    "data = random.random((5,5))\n",
    "plt.figure(figsize=(15, 8))\n",
    "plt.scatter(0.3, 0.8, s=200, c='white')\n",
    "plt.xlim([0, 1])\n",
    "plt.ylim([0, 1])\n",
    "plt.axis('off')\n",
    "plt.savefig(\"test.png\")"
   ]
  },
  {
   "cell_type": "code",
   "execution_count": null,
   "id": "d293791a",
   "metadata": {
    "scrolled": true
   },
   "outputs": [],
   "source": [
    "# main loop for rendering num_pics dots photos and saving their locations in the file labelling.csv. \n",
    "\n",
    "locations = []\n",
    "range_x = [(0.7, 1), (0.4, 0.6), (0, 0.3), (0.4, 0.6)]\n",
    "range_y = [(0.4, 0.6), (0.7, 1), (0.4, 0.6), (0, 0.3)]\n",
    "label = ['right', 'up', 'left', 'down']\n",
    "num_pics = 60\n",
    "for i in range(4):\n",
    "    for j in range(num_pics):\n",
    "        x = np.random.uniform(range_x[i][0], range_x[i][1])\n",
    "        y = np.random.uniform(range_y[i][0], range_y[i][1])\n",
    "        fig = plt.figure(figsize=(15, 8))\n",
    "        plt.scatter(x, y, s=200, c='white')\n",
    "        plt.xlim([0, 1])\n",
    "        plt.ylim([0, 1])\n",
    "        plt.axis('off')\n",
    "        plt.savefig(f'figures_decoding_exp/fig{num_pics * i + j}.png', dpi=400)\n",
    "        plt.close(fig)\n",
    "        locations.append((x, y, label[i]))\n",
    "df_loc = pd.DataFrame(locations)\n",
    "df_loc.to_csv('labelling.csv')"
   ]
  }
 ],
 "metadata": {
  "kernelspec": {
   "display_name": "Python 3.9.13 64-bit (windows store)",
   "language": "python",
   "name": "python3"
  },
  "language_info": {
   "codemirror_mode": {
    "name": "ipython",
    "version": 3
   },
   "file_extension": ".py",
   "mimetype": "text/x-python",
   "name": "python",
   "nbconvert_exporter": "python",
   "pygments_lexer": "ipython3",
   "version": "3.9.13"
  },
  "vscode": {
   "interpreter": {
    "hash": "5870362a126c03bc0393dbf7d60957cce30875c323960071f31c28a99fb282c1"
   }
  }
 },
 "nbformat": 4,
 "nbformat_minor": 5
}
