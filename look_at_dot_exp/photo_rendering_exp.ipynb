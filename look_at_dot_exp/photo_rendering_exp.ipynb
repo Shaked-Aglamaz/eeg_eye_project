{
 "cells": [
  {
   "cell_type": "code",
   "execution_count": null,
   "id": "4097362a",
   "metadata": {
    "scrolled": true
   },
   "outputs": [],
   "source": [
    "from numpy import random\n",
    "import matplotlib.pyplot as plt\n",
    "import numpy as np\n",
    "import pandas as pd"
   ]
  },
  {
   "cell_type": "code",
   "execution_count": null,
   "id": "969830bb",
   "metadata": {
    "scrolled": true
   },
   "outputs": [],
   "source": [
    "data = random.random((5,5))\n",
    "# img = plt.imshow(data, interpolation='nearest')\n",
    "# img.set_cmap('hot')\n",
    "plt.figure(figsize=(15, 8))\n",
    "plt.scatter(0.3, 0.8, s=200, c='white')\n",
    "plt.xlim([0, 1])\n",
    "plt.ylim([0, 1])\n",
    "plt.axis('off')\n",
    "plt.savefig(\"test.png\")"
   ]
  },
  {
   "cell_type": "code",
   "execution_count": null,
   "id": "d293791a",
   "metadata": {
    "scrolled": true
   },
   "outputs": [],
   "source": [
    "locations = []\n",
    "range_x=[(0.7,1),(0.4,0.6),(0,0.3),(0.4,0.6)]\n",
    "range_y=[(0.4,0.6),(0.7, 1),(0.4,0.6),(0, 0.3)]\n",
    "label=['right', 'up', 'left', 'down']\n",
    "num_pics=60\n",
    "for i in range(4):\n",
    "    for j in range(num_pics):\n",
    "        x = np.random.uniform(range_x[i][0], range_x[i][1])\n",
    "        y = np.random.uniform(range_y[i][0], range_y[i][1])\n",
    "        fig=plt.figure(figsize=(15, 8))\n",
    "        plt.scatter(x,y, s=200, c='white')\n",
    "        plt.xlim([0, 1])\n",
    "        plt.ylim([0, 1])\n",
    "        plt.axis('off')\n",
    "        plt.savefig(f'figures_decoding_exp/fig{num_pics*i+j}.png', dpi=400)\n",
    "        plt.close(fig)\n",
    "        locations.append((x,y,label[i]))\n",
    "df_loc = pd.DataFrame(locations)\n",
    "df_loc.to_csv('labeling.csv')"
   ]
  },
  {
   "cell_type": "code",
   "execution_count": null,
   "id": "7d30d4c2",
   "metadata": {
    "scrolled": true
   },
   "outputs": [],
   "source": []
  }
 ],
 "metadata": {
  "kernelspec": {
   "display_name": "Python 3",
   "language": "python",
   "name": "python3"
  },
  "language_info": {
   "codemirror_mode": {
    "name": "ipython",
    "version": 3
   },
   "file_extension": ".py",
   "mimetype": "text/x-python",
   "name": "python",
   "nbconvert_exporter": "python",
   "pygments_lexer": "ipython3",
   "version": "3.6.13"
  }
 },
 "nbformat": 4,
 "nbformat_minor": 5
}
