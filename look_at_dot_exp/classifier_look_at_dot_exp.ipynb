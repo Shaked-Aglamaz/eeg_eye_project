{
 "cells": [
  {
   "cell_type": "code",
   "execution_count": null,
   "id": "9e55b3fe",
   "metadata": {},
   "outputs": [],
   "source": [
    "from sklearn.model_selection import train_test_split\n",
    "import matplotlib.pyplot as plt\n",
    "import numpy as np\n",
    "import pandas as pd\n",
    "from sklearn.svm import SVC\n",
    "import seaborn as sns"
   ]
  },
  {
   "cell_type": "code",
   "execution_count": null,
   "id": "d785d958",
   "metadata": {},
   "outputs": [],
   "source": [
    "def load_data(block, data_folder):\n",
    "    return pd.read_csv(f'{data_folder}/pre_data{block}.csv')"
   ]
  },
  {
   "cell_type": "code",
   "execution_count": null,
   "id": "924ad1ad",
   "metadata": {},
   "outputs": [],
   "source": [
    "def scatter_and_save_fig(data, subject, block, scatter_folder):\n",
    "    sns.scatterplot(data=data, x='x_left', y='y_left', hue='label')\n",
    "    plt.savefig(f'{scatter_folder}/block{block}', dpi=400)"
   ]
  },
  {
   "cell_type": "code",
   "execution_count": null,
   "id": "3679fa6a",
   "metadata": {},
   "outputs": [],
   "source": [
    "def get_train_test_split(data):\n",
    "    np_data = data.to_numpy()\n",
    "    y = np_data[:, 0]\n",
    "    x = np_data[:, 1:]\n",
    "    return train_test_split(x, y, test_size=0.2)"
   ]
  },
  {
   "cell_type": "code",
   "execution_count": null,
   "id": "722f96af",
   "metadata": {},
   "outputs": [],
   "source": [
    "def classic_svc(X, x_test, y, y_test, scores_dict, block):\n",
    "    clf = SVC(gamma='auto')\n",
    "    clf.fit(X, y)\n",
    "    scores_dict[f'svc_{block}'] = clf.score(x_test,y_test)"
   ]
  },
  {
   "cell_type": "code",
   "execution_count": null,
   "id": "252e25b3",
   "metadata": {},
   "outputs": [],
   "source": [
    "def manual_count_train_lables(X, y):\n",
    "    train_up = []\n",
    "    train_down = []\n",
    "    train_left = []\n",
    "    train_right = []\n",
    "    for idx, lable in enumerate(y):\n",
    "        if lable == 'up':\n",
    "            train_up.append(X[idx])\n",
    "        if lable == 'down':\n",
    "            train_down.append(X[idx])\n",
    "        if lable == 'left':\n",
    "            train_left.append(X[idx])\n",
    "        if lable == 'right':\n",
    "            train_right.append(X[idx])\n",
    "    return train_down, train_up, train_left, train_right"
   ]
  },
  {
   "cell_type": "code",
   "execution_count": null,
   "id": "0daf427b",
   "metadata": {},
   "outputs": [],
   "source": [
    "def calculate_avg(train_down, train_up, train_left, train_right):\n",
    "    avg_up = (np.array(train_up)).mean(axis=0)\n",
    "    avg_down = (np.array(train_down)).mean(axis=0)\n",
    "    avg_left = (np.array(train_left)).mean(axis=0)\n",
    "    avg_right = (np.array(train_right)).mean(axis=0)\n",
    "    return avg_down, avg_up, avg_left, avg_right"
   ]
  },
  {
   "cell_type": "code",
   "execution_count": null,
   "id": "e53171cd",
   "metadata": {},
   "outputs": [],
   "source": [
    "def manual_calculate_score(avg_down, avg_up, avg_left, avg_right, x_test, y_test, scores_dict, block): \n",
    "    correct = 0\n",
    "    incorrect = 0\n",
    "    for idx, t in enumerate(x_test):\n",
    "        dist_up = np.linalg.norm(np.power(t - avg_up, 2))\n",
    "        dist_down = np.linalg.norm(np.power(t - avg_down, 2))\n",
    "        dist_left = np.linalg.norm(np.power(t - avg_left, 2))\n",
    "        dist_right = np.linalg.norm(np.power(t - avg_right, 2))\n",
    "        dist_arr = [dist_up, dist_down, dist_left, dist_right]\n",
    "        lables_arr = ['up','down', 'left', 'right']\n",
    "        min_d = np.argmin(dist_arr) \n",
    "        if y_test[idx] == lables_arr[min_d]:\n",
    "            correct += 1\n",
    "        else:\n",
    "            incorrect += 1\n",
    "    scores_dict[f'manual_{block}'] = correct / len(y_test)"
   ]
  },
  {
   "cell_type": "code",
   "execution_count": null,
   "id": "3b19a4a4",
   "metadata": {},
   "outputs": [],
   "source": [
    "scores_dict = {}\n",
    "num_partitions = 10"
   ]
  },
  {
   "cell_type": "code",
   "execution_count": null,
   "id": "d21c2b06",
   "metadata": {},
   "outputs": [],
   "source": [
    "for part in range(num_partitions):\n",
    "    data = load_data(part, 'data')\n",
    "    scatter_and_save_fig\n",
    "    X, x_test, y, y_test = get_train_test_split(data)\n",
    "    classic_svc(X, x_test, y, y_test, scores_dict, part)\n",
    "    train_down, train_up, train_left, train_right = manual_count_train_lables(X, y)\n",
    "    avg_down, avg_up, avg_left, avg_right = calculate_avg(train_down, train_up, train_left, train_right)\n",
    "    manual_calculate_score(avg_down, avg_up, avg_left, avg_right, x_test, y_test, scores_dict, part)"
   ]
  },
  {
   "cell_type": "markdown",
   "id": "63a4b435",
   "metadata": {},
   "source": [
    "Final results"
   ]
  },
  {
   "cell_type": "code",
   "execution_count": null,
   "id": "5db0d8f9",
   "metadata": {},
   "outputs": [],
   "source": [
    "# calculate average of the first half and last half of timeframes\n",
    "\n",
    "man = [0 for i in range(num_partitions)]\n",
    "svc = [0 for i in range(num_partitions)]\n",
    "for key, value in scores_dict.items():\n",
    "    classifier, idx = key.split('_')\n",
    "    if classifier == 'manual':\n",
    "        man[int(idx)] = value\n",
    "    else:\n",
    "        svc[int(idx)] = value\n",
    "h = int(num_partitions / 2)\n",
    "np.average(man[:h]), np.average(svc[:h]), np.average(man[h:]), np.average(svc[h:])"
   ]
  },
  {
   "cell_type": "code",
   "execution_count": null,
   "id": "10c45707",
   "metadata": {},
   "outputs": [],
   "source": [
    "# plot accuracy curve\n",
    "\n",
    "x = [i for i in range(num_partitions)]\n",
    "plt.plot(x, man)\n",
    "plt.plot(x, svc, color='red')\n",
    "plt.xlabel('time frame')\n",
    "plt.ylabel('accuracy')\n",
    "plt.title(\"Accuracy by time farmes\")\n",
    "plt.legend(['maximum correlation', 'svm'])\n",
    "plt.savefig('coherence', dpi=400)"
   ]
  }
 ],
 "metadata": {
  "kernelspec": {
   "display_name": "Python 3.9.13 64-bit (windows store)",
   "language": "python",
   "name": "python3"
  },
  "language_info": {
   "codemirror_mode": {
    "name": "ipython",
    "version": 3
   },
   "file_extension": ".py",
   "mimetype": "text/x-python",
   "name": "python",
   "nbconvert_exporter": "python",
   "pygments_lexer": "ipython3",
   "version": "3.9.13"
  },
  "vscode": {
   "interpreter": {
    "hash": "5870362a126c03bc0393dbf7d60957cce30875c323960071f31c28a99fb282c1"
   }
  }
 },
 "nbformat": 4,
 "nbformat_minor": 5
}
